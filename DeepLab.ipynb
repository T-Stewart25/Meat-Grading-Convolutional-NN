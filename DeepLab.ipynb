{
 "cells": [
  {
   "cell_type": "code",
   "execution_count": 3,
   "id": "d542c5a8-ca7e-4f75-a5c4-bf6bcc740b11",
   "metadata": {},
   "outputs": [
    {
     "name": "stdout",
     "output_type": "stream",
     "text": [
      "Requirement already satisfied: torch in /Users/thomasstewart/micromamba/lib/python3.9/site-packages (2.2.1)\n",
      "Collecting torchaudio\n",
      "  Downloading torchaudio-2.2.2-cp39-cp39-macosx_11_0_arm64.whl.metadata (6.4 kB)\n",
      "Requirement already satisfied: torchvision in /Users/thomasstewart/micromamba/lib/python3.9/site-packages (0.17.1)\n",
      "Collecting torchtext\n",
      "  Downloading torchtext-0.17.2-cp39-cp39-macosx_11_0_arm64.whl.metadata (7.9 kB)\n",
      "Collecting torchdata\n",
      "  Downloading torchdata-0.7.1-cp39-cp39-macosx_11_0_arm64.whl.metadata (13 kB)\n",
      "Requirement already satisfied: filelock in /Users/thomasstewart/micromamba/lib/python3.9/site-packages (from torch) (3.12.0)\n",
      "Requirement already satisfied: typing-extensions>=4.8.0 in /Users/thomasstewart/.local/lib/python3.9/site-packages (from torch) (4.9.0)\n",
      "Requirement already satisfied: sympy in /Users/thomasstewart/micromamba/lib/python3.9/site-packages (from torch) (1.12)\n",
      "Requirement already satisfied: networkx in /Users/thomasstewart/micromamba/lib/python3.9/site-packages (from torch) (3.2.1)\n",
      "Requirement already satisfied: jinja2 in /Users/thomasstewart/micromamba/lib/python3.9/site-packages (from torch) (3.1.2)\n",
      "Requirement already satisfied: fsspec in /Users/thomasstewart/micromamba/lib/python3.9/site-packages (from torch) (2024.3.1)\n",
      "Collecting torch\n",
      "  Downloading torch-2.2.2-cp39-none-macosx_11_0_arm64.whl.metadata (25 kB)\n",
      "Requirement already satisfied: numpy in /Users/thomasstewart/micromamba/lib/python3.9/site-packages (from torchvision) (1.26.3)\n",
      "INFO: pip is looking at multiple versions of torchvision to determine which version is compatible with other requirements. This could take a while.\n",
      "Collecting torchvision\n",
      "  Downloading torchvision-0.17.2-cp39-cp39-macosx_11_0_arm64.whl.metadata (6.6 kB)\n",
      "Requirement already satisfied: pillow!=8.3.*,>=5.3.0 in /Users/thomasstewart/micromamba/lib/python3.9/site-packages (from torchvision) (10.2.0)\n",
      "Requirement already satisfied: tqdm in /Users/thomasstewart/micromamba/lib/python3.9/site-packages (from torchtext) (4.65.0)\n",
      "Requirement already satisfied: requests in /Users/thomasstewart/micromamba/lib/python3.9/site-packages (from torchtext) (2.31.0)\n",
      "Requirement already satisfied: urllib3>=1.25 in /Users/thomasstewart/micromamba/lib/python3.9/site-packages (from torchdata) (1.26.15)\n",
      "Requirement already satisfied: MarkupSafe>=2.0 in /Users/thomasstewart/micromamba/lib/python3.9/site-packages (from jinja2->torch) (2.1.3)\n",
      "Requirement already satisfied: charset-normalizer<4,>=2 in /Users/thomasstewart/micromamba/lib/python3.9/site-packages (from requests->torchtext) (2.1.1)\n",
      "Requirement already satisfied: idna<4,>=2.5 in /Users/thomasstewart/micromamba/lib/python3.9/site-packages (from requests->torchtext) (3.4)\n",
      "Requirement already satisfied: certifi>=2017.4.17 in /Users/thomasstewart/micromamba/lib/python3.9/site-packages (from requests->torchtext) (2022.12.7)\n",
      "Requirement already satisfied: mpmath>=0.19 in /Users/thomasstewart/micromamba/lib/python3.9/site-packages (from sympy->torch) (1.3.0)\n",
      "Downloading torchaudio-2.2.2-cp39-cp39-macosx_11_0_arm64.whl (1.8 MB)\n",
      "\u001b[2K   \u001b[90m━━━━━━━━━━━━━━━━━━━━━━━━━━━━━━━━━━━━━━━━\u001b[0m \u001b[32m1.8/1.8 MB\u001b[0m \u001b[31m3.8 MB/s\u001b[0m eta \u001b[36m0:00:00\u001b[0ma \u001b[36m0:00:01\u001b[0m0m\n",
      "\u001b[?25hDownloading torch-2.2.2-cp39-none-macosx_11_0_arm64.whl (59.7 MB)\n",
      "\u001b[2K   \u001b[90m━━━━━━━━━━━━━━━━━━━━━━━━━━━━━━━━━━━━━━━━\u001b[0m \u001b[32m59.7/59.7 MB\u001b[0m \u001b[31m16.6 MB/s\u001b[0m eta \u001b[36m0:00:00\u001b[0m00:01\u001b[0m00:01\u001b[0m\n",
      "\u001b[?25hDownloading torchvision-0.17.2-cp39-cp39-macosx_11_0_arm64.whl (1.6 MB)\n",
      "\u001b[2K   \u001b[90m━━━━━━━━━━━━━━━━━━━━━━━━━━━━━━━━━━━━━━━━\u001b[0m \u001b[32m1.6/1.6 MB\u001b[0m \u001b[31m27.2 MB/s\u001b[0m eta \u001b[36m0:00:00\u001b[0ma \u001b[36m0:00:01\u001b[0m\n",
      "\u001b[?25hDownloading torchtext-0.17.2-cp39-cp39-macosx_11_0_arm64.whl (2.1 MB)\n",
      "\u001b[2K   \u001b[90m━━━━━━━━━━━━━━━━━━━━━━━━━━━━━━━━━━━━━━━━\u001b[0m \u001b[32m2.1/2.1 MB\u001b[0m \u001b[31m7.9 MB/s\u001b[0m eta \u001b[36m0:00:00\u001b[0ma \u001b[36m0:00:01\u001b[0mm\n",
      "\u001b[?25hDownloading torchdata-0.7.1-cp39-cp39-macosx_11_0_arm64.whl (4.8 MB)\n",
      "\u001b[2K   \u001b[90m━━━━━━━━━━━━━━━━━━━━━━━━━━━━━━━━━━━━━━━━\u001b[0m \u001b[32m4.8/4.8 MB\u001b[0m \u001b[31m15.3 MB/s\u001b[0m eta \u001b[36m0:00:00\u001b[0m00:01\u001b[0m00:01\u001b[0m\n",
      "\u001b[?25hInstalling collected packages: torch, torchvision, torchtext, torchdata, torchaudio\n",
      "  Attempting uninstall: torch\n",
      "    Found existing installation: torch 2.2.1\n",
      "    Uninstalling torch-2.2.1:\n",
      "      Successfully uninstalled torch-2.2.1\n",
      "  Attempting uninstall: torchvision\n",
      "    Found existing installation: torchvision 0.17.1\n",
      "    Uninstalling torchvision-0.17.1:\n",
      "      Successfully uninstalled torchvision-0.17.1\n",
      "Successfully installed torch-2.2.2 torchaudio-2.2.2 torchdata-0.7.1 torchtext-0.17.2 torchvision-0.17.2\n"
     ]
    }
   ],
   "source": [
    "!pip3 install torch torchaudio torchvision torchtext torchdata"
   ]
  },
  {
   "cell_type": "code",
   "execution_count": 2,
   "id": "3275437a-c5cb-49c4-9ebe-83debee4948a",
   "metadata": {},
   "outputs": [
    {
     "name": "stdout",
     "output_type": "stream",
     "text": [
      "Epoch 1, Loss: 1.4228582211903162\n",
      "Epoch 2, Loss: 1.2032485476561956\n",
      "Epoch 3, Loss: 1.131764211824962\n",
      "Epoch 4, Loss: 1.119557614837374\n",
      "Epoch 5, Loss: 1.167425811290741\n",
      "Epoch 6, Loss: 1.1567414828709193\n",
      "Epoch 7, Loss: 1.180913005556379\n",
      "Epoch 8, Loss: 1.1152554282120295\n",
      "Epoch 9, Loss: 1.1320170504706246\n",
      "Epoch 10, Loss: 1.1844121984073095\n"
     ]
    }
   ],
   "source": []
  },
  {
   "cell_type": "code",
   "execution_count": null,
   "id": "b6676924-7eae-45e8-afc8-a1b527905b4d",
   "metadata": {},
   "outputs": [],
   "source": []
  },
  {
   "cell_type": "code",
   "execution_count": null,
   "id": "9215a570-cb8d-4d84-bf7f-8dba68618e24",
   "metadata": {},
   "outputs": [],
   "source": []
  }
 ],
 "metadata": {
  "kernelspec": {
   "display_name": "Python 3 (ipykernel)",
   "language": "python",
   "name": "python3"
  },
  "language_info": {
   "codemirror_mode": {
    "name": "ipython",
    "version": 3
   },
   "file_extension": ".py",
   "mimetype": "text/x-python",
   "name": "python",
   "nbconvert_exporter": "python",
   "pygments_lexer": "ipython3",
   "version": "3.9.16"
  }
 },
 "nbformat": 4,
 "nbformat_minor": 5
}
