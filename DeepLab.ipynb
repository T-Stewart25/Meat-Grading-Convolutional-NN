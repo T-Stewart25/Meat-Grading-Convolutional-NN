{
 "cells": [
  {
   "cell_type": "code",
   "execution_count": 67,
   "id": "3275437a-c5cb-49c4-9ebe-83debee4948a",
   "metadata": {},
   "outputs": [],
   "source": [
    "import torch\n",
    "import torch.nn as nn\n",
    "import torchvision.models as models\n",
    "from torchvision import transforms\n",
    "from torch.utils.data import DataLoader, random_split, Dataset\n",
    "import os\n",
    "import torch.nn.functional as F\n",
    "from PIL import Image\n",
    "\n",
    "\n",
    "#Importing necessary libraries"
   ]
  },
  {
   "cell_type": "code",
   "execution_count": 68,
   "id": "7eb2c311",
   "metadata": {},
   "outputs": [],
   "source": [
    "class ImageDataset(Dataset):\n",
    "    def __init__(self, root_dir, transform=None):\n",
    "        self.root_dir = root_dir\n",
    "        self.transform = transform\n",
    "        self.images = os.listdir(root_dir)\n",
    "    \n",
    "    def __len__(self):\n",
    "        return len(self.images)\n",
    "    \n",
    "    def __getitem__(self, idx):\n",
    "        img_path = os.path.join(self.root_dir, self.images[idx])\n",
    "        image = Image.open(img_path)\n",
    "        if self.transform:\n",
    "            image = self.transform(image)\n",
    "        return image"
   ]
  },
  {
   "cell_type": "code",
   "execution_count": 69,
   "id": "d3446bdd",
   "metadata": {},
   "outputs": [],
   "source": [
    "# Define the path to the directory containing your images\n",
    "root_dir = \"../Training\"\n",
    "\n",
    "# Define transformations to apply to the images\n",
    "transform = transforms.Compose([\n",
    "    transforms.Resize((256, 256)),  # Resize the image to 256x256 pixels\n",
    "    transforms.ToTensor()            # Convert the image to a PyTorch tensor\n",
    "])\n",
    "\n",
    "# Create an instance of the ImageDataset class\n",
    "dataset = ImageDataset(root_dir, transform=transform)\n",
    "\n",
    "# Optionally, you can also use PyTorch's ImageFolder class which automatically loads images from subfolders\n",
    "# dataset = ImageFolder(root=root_dir, transform=transform)\n",
    "\n",
    "# Create a DataLoader to iterate over the dataset\n",
    "batch_size = 32\n",
    "\n",
    "\n"
   ]
  },
  {
   "cell_type": "code",
   "execution_count": 70,
   "id": "9215a570-cb8d-4d84-bf7f-8dba68618e24",
   "metadata": {},
   "outputs": [],
   "source": [
    "train_loader = DataLoader(dataset, batch_size=batch_size, shuffle=True)\n"
   ]
  },
  {
   "cell_type": "code",
   "execution_count": null,
   "id": "44abdf76",
   "metadata": {},
   "outputs": [],
   "source": []
  }
 ],
 "metadata": {
  "kernelspec": {
   "display_name": "Python 3 (ipykernel)",
   "language": "python",
   "name": "python3"
  },
  "language_info": {
   "codemirror_mode": {
    "name": "ipython",
    "version": 3
   },
   "file_extension": ".py",
   "mimetype": "text/x-python",
   "name": "python",
   "nbconvert_exporter": "python",
   "pygments_lexer": "ipython3",
   "version": "3.9.16"
  }
 },
 "nbformat": 4,
 "nbformat_minor": 5
}
